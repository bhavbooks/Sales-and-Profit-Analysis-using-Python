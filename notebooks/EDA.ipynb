{
 "cells": [
  {
   "cell_type": "markdown",
   "id": "fde637a9",
   "metadata": {},
   "source": [
    "# Sales and Profit Analysis Project"
   ]
  },
  {
   "cell_type": "markdown",
   "id": "83f006cb",
   "metadata": {},
   "source": [
    "importing essential libraries"
   ]
  },
  {
   "cell_type": "code",
   "execution_count": 2,
   "id": "9763b443",
   "metadata": {},
   "outputs": [],
   "source": [
    "import numpy as np\n",
    "import pandas as pd\n",
    "import seaborn as sns\n",
    "import matplotlib.pyplot as plt"
   ]
  },
  {
   "cell_type": "markdown",
   "id": "9c350b33",
   "metadata": {},
   "source": [
    "### Loading the Dataset"
   ]
  },
  {
   "cell_type": "code",
   "execution_count": 3,
   "id": "b437fd7b",
   "metadata": {},
   "outputs": [],
   "source": [
    "data = pd.read_csv(\"data/Sales&ProfitData.csv\")"
   ]
  },
  {
   "cell_type": "markdown",
   "id": "fec4bb5a",
   "metadata": {},
   "source": [
    "creating a copy of the dataset for further analysis"
   ]
  },
  {
   "cell_type": "code",
   "execution_count": 4,
   "id": "fcefba24",
   "metadata": {},
   "outputs": [],
   "source": [
    "df = data.copy()"
   ]
  },
  {
   "cell_type": "code",
   "execution_count": 5,
   "id": "b2f5714c",
   "metadata": {},
   "outputs": [
    {
     "data": {
      "text/html": [
       "<div>\n",
       "<style scoped>\n",
       "    .dataframe tbody tr th:only-of-type {\n",
       "        vertical-align: middle;\n",
       "    }\n",
       "\n",
       "    .dataframe tbody tr th {\n",
       "        vertical-align: top;\n",
       "    }\n",
       "\n",
       "    .dataframe thead th {\n",
       "        text-align: right;\n",
       "    }\n",
       "</style>\n",
       "<table border=\"1\" class=\"dataframe\">\n",
       "  <thead>\n",
       "    <tr style=\"text-align: right;\">\n",
       "      <th></th>\n",
       "      <th>Row ID</th>\n",
       "      <th>Order ID</th>\n",
       "      <th>Order Date</th>\n",
       "      <th>Ship Date</th>\n",
       "      <th>Ship Mode</th>\n",
       "      <th>Customer ID</th>\n",
       "      <th>Customer Name</th>\n",
       "      <th>Segment</th>\n",
       "      <th>City</th>\n",
       "      <th>State</th>\n",
       "      <th>...</th>\n",
       "      <th>Product ID</th>\n",
       "      <th>Category</th>\n",
       "      <th>Sub-Category</th>\n",
       "      <th>Product Name</th>\n",
       "      <th>Sales</th>\n",
       "      <th>Quantity</th>\n",
       "      <th>Discount</th>\n",
       "      <th>Profit</th>\n",
       "      <th>Shipping Cost</th>\n",
       "      <th>Order Priority</th>\n",
       "    </tr>\n",
       "  </thead>\n",
       "  <tbody>\n",
       "    <tr>\n",
       "      <th>0</th>\n",
       "      <td>32298</td>\n",
       "      <td>CA-2012-124891</td>\n",
       "      <td>31-07-2012</td>\n",
       "      <td>31-07-2012</td>\n",
       "      <td>Same Day</td>\n",
       "      <td>RH-19495</td>\n",
       "      <td>Rick Hansen</td>\n",
       "      <td>Consumer</td>\n",
       "      <td>New York City</td>\n",
       "      <td>New York</td>\n",
       "      <td>...</td>\n",
       "      <td>TEC-AC-10003033</td>\n",
       "      <td>Technology</td>\n",
       "      <td>Accessories</td>\n",
       "      <td>Plantronics CS510 - Over-the-Head monaural Wir...</td>\n",
       "      <td>2309.650</td>\n",
       "      <td>7</td>\n",
       "      <td>0.0</td>\n",
       "      <td>762.1845</td>\n",
       "      <td>933.57</td>\n",
       "      <td>Critical</td>\n",
       "    </tr>\n",
       "    <tr>\n",
       "      <th>1</th>\n",
       "      <td>26341</td>\n",
       "      <td>IN-2013-77878</td>\n",
       "      <td>2/5/2013</td>\n",
       "      <td>5/2/2013</td>\n",
       "      <td>Second Class</td>\n",
       "      <td>JR-16210</td>\n",
       "      <td>Justin Ritter</td>\n",
       "      <td>Corporate</td>\n",
       "      <td>Wollongong</td>\n",
       "      <td>New South Wales</td>\n",
       "      <td>...</td>\n",
       "      <td>FUR-CH-10003950</td>\n",
       "      <td>Furniture</td>\n",
       "      <td>Chairs</td>\n",
       "      <td>Novimex Executive Leather Armchair, Black</td>\n",
       "      <td>3709.395</td>\n",
       "      <td>9</td>\n",
       "      <td>0.1</td>\n",
       "      <td>-288.7650</td>\n",
       "      <td>923.63</td>\n",
       "      <td>Critical</td>\n",
       "    </tr>\n",
       "    <tr>\n",
       "      <th>2</th>\n",
       "      <td>25330</td>\n",
       "      <td>IN-2013-71249</td>\n",
       "      <td>17-10-2013</td>\n",
       "      <td>17-10-2013</td>\n",
       "      <td>First Class</td>\n",
       "      <td>CR-12730</td>\n",
       "      <td>Craig Reiter</td>\n",
       "      <td>Consumer</td>\n",
       "      <td>Brisbane</td>\n",
       "      <td>Queensland</td>\n",
       "      <td>...</td>\n",
       "      <td>TEC-PH-10004664</td>\n",
       "      <td>Technology</td>\n",
       "      <td>Phones</td>\n",
       "      <td>Nokia Smart Phone, with Caller ID</td>\n",
       "      <td>5175.171</td>\n",
       "      <td>9</td>\n",
       "      <td>0.1</td>\n",
       "      <td>919.9710</td>\n",
       "      <td>915.49</td>\n",
       "      <td>Medium</td>\n",
       "    </tr>\n",
       "    <tr>\n",
       "      <th>3</th>\n",
       "      <td>13524</td>\n",
       "      <td>ES-2013-1579342</td>\n",
       "      <td>28-01-2013</td>\n",
       "      <td>28-01-2013</td>\n",
       "      <td>First Class</td>\n",
       "      <td>KM-16375</td>\n",
       "      <td>Katherine Murray</td>\n",
       "      <td>Home Office</td>\n",
       "      <td>Berlin</td>\n",
       "      <td>Berlin</td>\n",
       "      <td>...</td>\n",
       "      <td>TEC-PH-10004583</td>\n",
       "      <td>Technology</td>\n",
       "      <td>Phones</td>\n",
       "      <td>Motorola Smart Phone, Cordless</td>\n",
       "      <td>2892.510</td>\n",
       "      <td>5</td>\n",
       "      <td>0.1</td>\n",
       "      <td>-96.5400</td>\n",
       "      <td>910.16</td>\n",
       "      <td>Medium</td>\n",
       "    </tr>\n",
       "    <tr>\n",
       "      <th>4</th>\n",
       "      <td>47221</td>\n",
       "      <td>SG-2013-4320</td>\n",
       "      <td>11/5/2013</td>\n",
       "      <td>5/11/2013</td>\n",
       "      <td>Same Day</td>\n",
       "      <td>RH-9495</td>\n",
       "      <td>Rick Hansen</td>\n",
       "      <td>Consumer</td>\n",
       "      <td>Dakar</td>\n",
       "      <td>Dakar</td>\n",
       "      <td>...</td>\n",
       "      <td>TEC-SHA-10000501</td>\n",
       "      <td>Technology</td>\n",
       "      <td>Copiers</td>\n",
       "      <td>Sharp Wireless Fax, High-Speed</td>\n",
       "      <td>2832.960</td>\n",
       "      <td>8</td>\n",
       "      <td>0.0</td>\n",
       "      <td>311.5200</td>\n",
       "      <td>903.04</td>\n",
       "      <td>Critical</td>\n",
       "    </tr>\n",
       "  </tbody>\n",
       "</table>\n",
       "<p>5 rows × 24 columns</p>\n",
       "</div>"
      ],
      "text/plain": [
       "   Row ID         Order ID  Order Date   Ship Date     Ship Mode Customer ID  \\\n",
       "0   32298   CA-2012-124891  31-07-2012  31-07-2012      Same Day    RH-19495   \n",
       "1   26341    IN-2013-77878    2/5/2013    5/2/2013  Second Class    JR-16210   \n",
       "2   25330    IN-2013-71249  17-10-2013  17-10-2013   First Class    CR-12730   \n",
       "3   13524  ES-2013-1579342  28-01-2013  28-01-2013   First Class    KM-16375   \n",
       "4   47221     SG-2013-4320   11/5/2013   5/11/2013      Same Day     RH-9495   \n",
       "\n",
       "      Customer Name      Segment           City            State  ...  \\\n",
       "0       Rick Hansen     Consumer  New York City         New York  ...   \n",
       "1     Justin Ritter    Corporate     Wollongong  New South Wales  ...   \n",
       "2      Craig Reiter     Consumer       Brisbane       Queensland  ...   \n",
       "3  Katherine Murray  Home Office         Berlin           Berlin  ...   \n",
       "4       Rick Hansen     Consumer          Dakar            Dakar  ...   \n",
       "\n",
       "         Product ID    Category Sub-Category  \\\n",
       "0   TEC-AC-10003033  Technology  Accessories   \n",
       "1   FUR-CH-10003950   Furniture       Chairs   \n",
       "2   TEC-PH-10004664  Technology       Phones   \n",
       "3   TEC-PH-10004583  Technology       Phones   \n",
       "4  TEC-SHA-10000501  Technology      Copiers   \n",
       "\n",
       "                                        Product Name     Sales Quantity  \\\n",
       "0  Plantronics CS510 - Over-the-Head monaural Wir...  2309.650        7   \n",
       "1          Novimex Executive Leather Armchair, Black  3709.395        9   \n",
       "2                  Nokia Smart Phone, with Caller ID  5175.171        9   \n",
       "3                     Motorola Smart Phone, Cordless  2892.510        5   \n",
       "4                     Sharp Wireless Fax, High-Speed  2832.960        8   \n",
       "\n",
       "  Discount    Profit  Shipping Cost  Order Priority  \n",
       "0      0.0  762.1845         933.57        Critical  \n",
       "1      0.1 -288.7650         923.63        Critical  \n",
       "2      0.1  919.9710         915.49          Medium  \n",
       "3      0.1  -96.5400         910.16          Medium  \n",
       "4      0.0  311.5200         903.04        Critical  \n",
       "\n",
       "[5 rows x 24 columns]"
      ]
     },
     "execution_count": 5,
     "metadata": {},
     "output_type": "execute_result"
    }
   ],
   "source": [
    "df.head()"
   ]
  },
  {
   "cell_type": "code",
   "execution_count": 7,
   "id": "7a9e2686",
   "metadata": {},
   "outputs": [
    {
     "data": {
      "text/plain": [
       "(51290, 24)"
      ]
     },
     "execution_count": 7,
     "metadata": {},
     "output_type": "execute_result"
    }
   ],
   "source": [
    "df.shape"
   ]
  },
  {
   "cell_type": "markdown",
   "id": "adcf4f05",
   "metadata": {},
   "source": [
    "51290 rows !! "
   ]
  },
  {
   "cell_type": "markdown",
   "id": "748b6076",
   "metadata": {},
   "source": [
    "## Basic Data Exploration"
   ]
  },
  {
   "cell_type": "code",
   "execution_count": 8,
   "id": "c8db78bd",
   "metadata": {},
   "outputs": [
    {
     "name": "stdout",
     "output_type": "stream",
     "text": [
      "<class 'pandas.core.frame.DataFrame'>\n",
      "RangeIndex: 51290 entries, 0 to 51289\n",
      "Data columns (total 24 columns):\n",
      " #   Column          Non-Null Count  Dtype  \n",
      "---  ------          --------------  -----  \n",
      " 0   Row ID          51290 non-null  int64  \n",
      " 1   Order ID        51290 non-null  object \n",
      " 2   Order Date      51290 non-null  object \n",
      " 3   Ship Date       51290 non-null  object \n",
      " 4   Ship Mode       51290 non-null  object \n",
      " 5   Customer ID     51290 non-null  object \n",
      " 6   Customer Name   51290 non-null  object \n",
      " 7   Segment         51290 non-null  object \n",
      " 8   City            51290 non-null  object \n",
      " 9   State           51290 non-null  object \n",
      " 10  Country         51290 non-null  object \n",
      " 11  Postal Code     9994 non-null   float64\n",
      " 12  Market          51290 non-null  object \n",
      " 13  Region          51290 non-null  object \n",
      " 14  Product ID      51290 non-null  object \n",
      " 15  Category        51290 non-null  object \n",
      " 16  Sub-Category    51290 non-null  object \n",
      " 17  Product Name    51290 non-null  object \n",
      " 18  Sales           51290 non-null  float64\n",
      " 19  Quantity        51290 non-null  int64  \n",
      " 20  Discount        51290 non-null  float64\n",
      " 21  Profit          51290 non-null  float64\n",
      " 22  Shipping Cost   51290 non-null  float64\n",
      " 23  Order Priority  51290 non-null  object \n",
      "dtypes: float64(5), int64(2), object(17)\n",
      "memory usage: 9.4+ MB\n"
     ]
    }
   ],
   "source": [
    "df.info()"
   ]
  },
  {
   "cell_type": "code",
   "execution_count": 10,
   "id": "a7575371",
   "metadata": {},
   "outputs": [
    {
     "data": {
      "text/html": [
       "<div>\n",
       "<style scoped>\n",
       "    .dataframe tbody tr th:only-of-type {\n",
       "        vertical-align: middle;\n",
       "    }\n",
       "\n",
       "    .dataframe tbody tr th {\n",
       "        vertical-align: top;\n",
       "    }\n",
       "\n",
       "    .dataframe thead th {\n",
       "        text-align: right;\n",
       "    }\n",
       "</style>\n",
       "<table border=\"1\" class=\"dataframe\">\n",
       "  <thead>\n",
       "    <tr style=\"text-align: right;\">\n",
       "      <th></th>\n",
       "      <th>Row ID</th>\n",
       "      <th>Postal Code</th>\n",
       "      <th>Sales</th>\n",
       "      <th>Quantity</th>\n",
       "      <th>Discount</th>\n",
       "      <th>Profit</th>\n",
       "      <th>Shipping Cost</th>\n",
       "    </tr>\n",
       "  </thead>\n",
       "  <tbody>\n",
       "    <tr>\n",
       "      <th>count</th>\n",
       "      <td>51290.00000</td>\n",
       "      <td>9994.000000</td>\n",
       "      <td>51290.000000</td>\n",
       "      <td>51290.000000</td>\n",
       "      <td>51290.000000</td>\n",
       "      <td>51290.000000</td>\n",
       "      <td>51290.000000</td>\n",
       "    </tr>\n",
       "    <tr>\n",
       "      <th>mean</th>\n",
       "      <td>25645.50000</td>\n",
       "      <td>55190.379428</td>\n",
       "      <td>246.490581</td>\n",
       "      <td>3.476545</td>\n",
       "      <td>0.142908</td>\n",
       "      <td>28.610982</td>\n",
       "      <td>26.375915</td>\n",
       "    </tr>\n",
       "    <tr>\n",
       "      <th>std</th>\n",
       "      <td>14806.29199</td>\n",
       "      <td>32063.693350</td>\n",
       "      <td>487.565361</td>\n",
       "      <td>2.278766</td>\n",
       "      <td>0.212280</td>\n",
       "      <td>174.340972</td>\n",
       "      <td>57.296804</td>\n",
       "    </tr>\n",
       "    <tr>\n",
       "      <th>min</th>\n",
       "      <td>1.00000</td>\n",
       "      <td>1040.000000</td>\n",
       "      <td>0.444000</td>\n",
       "      <td>1.000000</td>\n",
       "      <td>0.000000</td>\n",
       "      <td>-6599.978000</td>\n",
       "      <td>0.000000</td>\n",
       "    </tr>\n",
       "    <tr>\n",
       "      <th>25%</th>\n",
       "      <td>12823.25000</td>\n",
       "      <td>23223.000000</td>\n",
       "      <td>30.758625</td>\n",
       "      <td>2.000000</td>\n",
       "      <td>0.000000</td>\n",
       "      <td>0.000000</td>\n",
       "      <td>2.610000</td>\n",
       "    </tr>\n",
       "    <tr>\n",
       "      <th>50%</th>\n",
       "      <td>25645.50000</td>\n",
       "      <td>56430.500000</td>\n",
       "      <td>85.053000</td>\n",
       "      <td>3.000000</td>\n",
       "      <td>0.000000</td>\n",
       "      <td>9.240000</td>\n",
       "      <td>7.790000</td>\n",
       "    </tr>\n",
       "    <tr>\n",
       "      <th>75%</th>\n",
       "      <td>38467.75000</td>\n",
       "      <td>90008.000000</td>\n",
       "      <td>251.053200</td>\n",
       "      <td>5.000000</td>\n",
       "      <td>0.200000</td>\n",
       "      <td>36.810000</td>\n",
       "      <td>24.450000</td>\n",
       "    </tr>\n",
       "    <tr>\n",
       "      <th>max</th>\n",
       "      <td>51290.00000</td>\n",
       "      <td>99301.000000</td>\n",
       "      <td>22638.480000</td>\n",
       "      <td>14.000000</td>\n",
       "      <td>0.850000</td>\n",
       "      <td>8399.976000</td>\n",
       "      <td>933.570000</td>\n",
       "    </tr>\n",
       "  </tbody>\n",
       "</table>\n",
       "</div>"
      ],
      "text/plain": [
       "            Row ID   Postal Code         Sales      Quantity      Discount  \\\n",
       "count  51290.00000   9994.000000  51290.000000  51290.000000  51290.000000   \n",
       "mean   25645.50000  55190.379428    246.490581      3.476545      0.142908   \n",
       "std    14806.29199  32063.693350    487.565361      2.278766      0.212280   \n",
       "min        1.00000   1040.000000      0.444000      1.000000      0.000000   \n",
       "25%    12823.25000  23223.000000     30.758625      2.000000      0.000000   \n",
       "50%    25645.50000  56430.500000     85.053000      3.000000      0.000000   \n",
       "75%    38467.75000  90008.000000    251.053200      5.000000      0.200000   \n",
       "max    51290.00000  99301.000000  22638.480000     14.000000      0.850000   \n",
       "\n",
       "             Profit  Shipping Cost  \n",
       "count  51290.000000   51290.000000  \n",
       "mean      28.610982      26.375915  \n",
       "std      174.340972      57.296804  \n",
       "min    -6599.978000       0.000000  \n",
       "25%        0.000000       2.610000  \n",
       "50%        9.240000       7.790000  \n",
       "75%       36.810000      24.450000  \n",
       "max     8399.976000     933.570000  "
      ]
     },
     "execution_count": 10,
     "metadata": {},
     "output_type": "execute_result"
    }
   ],
   "source": [
    "df.describe()"
   ]
  },
  {
   "cell_type": "markdown",
   "id": "795332c3",
   "metadata": {},
   "source": [
    "checking for duplicates"
   ]
  },
  {
   "cell_type": "code",
   "execution_count": 12,
   "id": "bd07694f",
   "metadata": {},
   "outputs": [
    {
     "data": {
      "text/plain": [
       "np.int64(0)"
      ]
     },
     "execution_count": 12,
     "metadata": {},
     "output_type": "execute_result"
    }
   ],
   "source": [
    "df.duplicated().sum()"
   ]
  },
  {
   "cell_type": "markdown",
   "id": "84bc7f57",
   "metadata": {},
   "source": [
    "### Checking for Nan Values"
   ]
  },
  {
   "cell_type": "code",
   "execution_count": 16,
   "id": "f1de519d",
   "metadata": {},
   "outputs": [
    {
     "data": {
      "text/plain": [
       "np.int64(41296)"
      ]
     },
     "execution_count": 16,
     "metadata": {},
     "output_type": "execute_result"
    }
   ],
   "source": [
    "df.isna().sum().sum()"
   ]
  },
  {
   "cell_type": "markdown",
   "id": "cfae6b8f",
   "metadata": {},
   "source": [
    "Postal Code Column has a lot of Nan Values"
   ]
  },
  {
   "cell_type": "code",
   "execution_count": 17,
   "id": "3b97b7b0",
   "metadata": {},
   "outputs": [
    {
     "data": {
      "text/plain": [
       "np.int64(41296)"
      ]
     },
     "execution_count": 17,
     "metadata": {},
     "output_type": "execute_result"
    }
   ],
   "source": [
    "df['Postal Code'].isna().sum()"
   ]
  },
  {
   "cell_type": "markdown",
   "id": "118cbdd1",
   "metadata": {},
   "source": [
    "Checking Data Types"
   ]
  },
  {
   "cell_type": "code",
   "execution_count": 20,
   "id": "5f44cadc",
   "metadata": {},
   "outputs": [
    {
     "data": {
      "text/plain": [
       "Row ID              int64\n",
       "Order ID           object\n",
       "Order Date         object\n",
       "Ship Date          object\n",
       "Ship Mode          object\n",
       "Customer ID        object\n",
       "Customer Name      object\n",
       "Segment            object\n",
       "City               object\n",
       "State              object\n",
       "Country            object\n",
       "Postal Code       float64\n",
       "Market             object\n",
       "Region             object\n",
       "Product ID         object\n",
       "Category           object\n",
       "Sub-Category       object\n",
       "Product Name       object\n",
       "Sales             float64\n",
       "Quantity            int64\n",
       "Discount          float64\n",
       "Profit            float64\n",
       "Shipping Cost     float64\n",
       "Order Priority     object\n",
       "dtype: object"
      ]
     },
     "execution_count": 20,
     "metadata": {},
     "output_type": "execute_result"
    }
   ],
   "source": [
    "df.dtypes"
   ]
  },
  {
   "cell_type": "markdown",
   "id": "8c6c2d03",
   "metadata": {},
   "source": [
    "#### Seperating data on the data type "
   ]
  },
  {
   "cell_type": "code",
   "execution_count": 21,
   "id": "f5d17ef1",
   "metadata": {},
   "outputs": [
    {
     "data": {
      "text/html": [
       "<div>\n",
       "<style scoped>\n",
       "    .dataframe tbody tr th:only-of-type {\n",
       "        vertical-align: middle;\n",
       "    }\n",
       "\n",
       "    .dataframe tbody tr th {\n",
       "        vertical-align: top;\n",
       "    }\n",
       "\n",
       "    .dataframe thead th {\n",
       "        text-align: right;\n",
       "    }\n",
       "</style>\n",
       "<table border=\"1\" class=\"dataframe\">\n",
       "  <thead>\n",
       "    <tr style=\"text-align: right;\">\n",
       "      <th></th>\n",
       "      <th>Postal Code</th>\n",
       "      <th>Sales</th>\n",
       "      <th>Discount</th>\n",
       "      <th>Profit</th>\n",
       "      <th>Shipping Cost</th>\n",
       "    </tr>\n",
       "  </thead>\n",
       "  <tbody>\n",
       "    <tr>\n",
       "      <th>0</th>\n",
       "      <td>10024.0</td>\n",
       "      <td>2309.650</td>\n",
       "      <td>0.0</td>\n",
       "      <td>762.1845</td>\n",
       "      <td>933.57</td>\n",
       "    </tr>\n",
       "    <tr>\n",
       "      <th>1</th>\n",
       "      <td>NaN</td>\n",
       "      <td>3709.395</td>\n",
       "      <td>0.1</td>\n",
       "      <td>-288.7650</td>\n",
       "      <td>923.63</td>\n",
       "    </tr>\n",
       "    <tr>\n",
       "      <th>2</th>\n",
       "      <td>NaN</td>\n",
       "      <td>5175.171</td>\n",
       "      <td>0.1</td>\n",
       "      <td>919.9710</td>\n",
       "      <td>915.49</td>\n",
       "    </tr>\n",
       "    <tr>\n",
       "      <th>3</th>\n",
       "      <td>NaN</td>\n",
       "      <td>2892.510</td>\n",
       "      <td>0.1</td>\n",
       "      <td>-96.5400</td>\n",
       "      <td>910.16</td>\n",
       "    </tr>\n",
       "    <tr>\n",
       "      <th>4</th>\n",
       "      <td>NaN</td>\n",
       "      <td>2832.960</td>\n",
       "      <td>0.0</td>\n",
       "      <td>311.5200</td>\n",
       "      <td>903.04</td>\n",
       "    </tr>\n",
       "  </tbody>\n",
       "</table>\n",
       "</div>"
      ],
      "text/plain": [
       "   Postal Code     Sales  Discount    Profit  Shipping Cost\n",
       "0      10024.0  2309.650       0.0  762.1845         933.57\n",
       "1          NaN  3709.395       0.1 -288.7650         923.63\n",
       "2          NaN  5175.171       0.1  919.9710         915.49\n",
       "3          NaN  2892.510       0.1  -96.5400         910.16\n",
       "4          NaN  2832.960       0.0  311.5200         903.04"
      ]
     },
     "execution_count": 21,
     "metadata": {},
     "output_type": "execute_result"
    }
   ],
   "source": [
    "float_type = df[['Postal Code','Sales','Discount','Profit','Shipping Cost']]\n",
    "float_type.head()"
   ]
  },
  {
   "cell_type": "code",
   "execution_count": 22,
   "id": "4aefbde6",
   "metadata": {},
   "outputs": [
    {
     "data": {
      "text/html": [
       "<div>\n",
       "<style scoped>\n",
       "    .dataframe tbody tr th:only-of-type {\n",
       "        vertical-align: middle;\n",
       "    }\n",
       "\n",
       "    .dataframe tbody tr th {\n",
       "        vertical-align: top;\n",
       "    }\n",
       "\n",
       "    .dataframe thead th {\n",
       "        text-align: right;\n",
       "    }\n",
       "</style>\n",
       "<table border=\"1\" class=\"dataframe\">\n",
       "  <thead>\n",
       "    <tr style=\"text-align: right;\">\n",
       "      <th></th>\n",
       "      <th>Row ID</th>\n",
       "      <th>Order ID</th>\n",
       "      <th>Ship Mode</th>\n",
       "      <th>Customer ID</th>\n",
       "      <th>Customer Name</th>\n",
       "      <th>Segment</th>\n",
       "      <th>City</th>\n",
       "      <th>State</th>\n",
       "      <th>Country</th>\n",
       "    </tr>\n",
       "  </thead>\n",
       "  <tbody>\n",
       "    <tr>\n",
       "      <th>0</th>\n",
       "      <td>32298</td>\n",
       "      <td>CA-2012-124891</td>\n",
       "      <td>Same Day</td>\n",
       "      <td>RH-19495</td>\n",
       "      <td>Rick Hansen</td>\n",
       "      <td>Consumer</td>\n",
       "      <td>New York City</td>\n",
       "      <td>New York</td>\n",
       "      <td>United States</td>\n",
       "    </tr>\n",
       "    <tr>\n",
       "      <th>1</th>\n",
       "      <td>26341</td>\n",
       "      <td>IN-2013-77878</td>\n",
       "      <td>Second Class</td>\n",
       "      <td>JR-16210</td>\n",
       "      <td>Justin Ritter</td>\n",
       "      <td>Corporate</td>\n",
       "      <td>Wollongong</td>\n",
       "      <td>New South Wales</td>\n",
       "      <td>Australia</td>\n",
       "    </tr>\n",
       "    <tr>\n",
       "      <th>2</th>\n",
       "      <td>25330</td>\n",
       "      <td>IN-2013-71249</td>\n",
       "      <td>First Class</td>\n",
       "      <td>CR-12730</td>\n",
       "      <td>Craig Reiter</td>\n",
       "      <td>Consumer</td>\n",
       "      <td>Brisbane</td>\n",
       "      <td>Queensland</td>\n",
       "      <td>Australia</td>\n",
       "    </tr>\n",
       "    <tr>\n",
       "      <th>3</th>\n",
       "      <td>13524</td>\n",
       "      <td>ES-2013-1579342</td>\n",
       "      <td>First Class</td>\n",
       "      <td>KM-16375</td>\n",
       "      <td>Katherine Murray</td>\n",
       "      <td>Home Office</td>\n",
       "      <td>Berlin</td>\n",
       "      <td>Berlin</td>\n",
       "      <td>Germany</td>\n",
       "    </tr>\n",
       "    <tr>\n",
       "      <th>4</th>\n",
       "      <td>47221</td>\n",
       "      <td>SG-2013-4320</td>\n",
       "      <td>Same Day</td>\n",
       "      <td>RH-9495</td>\n",
       "      <td>Rick Hansen</td>\n",
       "      <td>Consumer</td>\n",
       "      <td>Dakar</td>\n",
       "      <td>Dakar</td>\n",
       "      <td>Senegal</td>\n",
       "    </tr>\n",
       "  </tbody>\n",
       "</table>\n",
       "</div>"
      ],
      "text/plain": [
       "   Row ID         Order ID     Ship Mode Customer ID     Customer Name  \\\n",
       "0   32298   CA-2012-124891      Same Day    RH-19495       Rick Hansen   \n",
       "1   26341    IN-2013-77878  Second Class    JR-16210     Justin Ritter   \n",
       "2   25330    IN-2013-71249   First Class    CR-12730      Craig Reiter   \n",
       "3   13524  ES-2013-1579342   First Class    KM-16375  Katherine Murray   \n",
       "4   47221     SG-2013-4320      Same Day     RH-9495       Rick Hansen   \n",
       "\n",
       "       Segment           City            State        Country  \n",
       "0     Consumer  New York City         New York  United States  \n",
       "1    Corporate     Wollongong  New South Wales      Australia  \n",
       "2     Consumer       Brisbane       Queensland      Australia  \n",
       "3  Home Office         Berlin           Berlin        Germany  \n",
       "4     Consumer          Dakar            Dakar        Senegal  "
      ]
     },
     "execution_count": 22,
     "metadata": {},
     "output_type": "execute_result"
    }
   ],
   "source": [
    "else_type = df[['Row ID','Order ID','Ship Mode','Customer ID','Customer Name','Segment','City','State','Country']]\n",
    "else_type.head()"
   ]
  },
  {
   "cell_type": "code",
   "execution_count": 23,
   "id": "99be077a",
   "metadata": {},
   "outputs": [
    {
     "data": {
      "text/html": [
       "<div>\n",
       "<style scoped>\n",
       "    .dataframe tbody tr th:only-of-type {\n",
       "        vertical-align: middle;\n",
       "    }\n",
       "\n",
       "    .dataframe tbody tr th {\n",
       "        vertical-align: top;\n",
       "    }\n",
       "\n",
       "    .dataframe thead th {\n",
       "        text-align: right;\n",
       "    }\n",
       "</style>\n",
       "<table border=\"1\" class=\"dataframe\">\n",
       "  <thead>\n",
       "    <tr style=\"text-align: right;\">\n",
       "      <th></th>\n",
       "      <th>Ship Date</th>\n",
       "      <th>Order Date</th>\n",
       "    </tr>\n",
       "  </thead>\n",
       "  <tbody>\n",
       "    <tr>\n",
       "      <th>0</th>\n",
       "      <td>31-07-2012</td>\n",
       "      <td>31-07-2012</td>\n",
       "    </tr>\n",
       "    <tr>\n",
       "      <th>1</th>\n",
       "      <td>5/2/2013</td>\n",
       "      <td>2/5/2013</td>\n",
       "    </tr>\n",
       "    <tr>\n",
       "      <th>2</th>\n",
       "      <td>17-10-2013</td>\n",
       "      <td>17-10-2013</td>\n",
       "    </tr>\n",
       "    <tr>\n",
       "      <th>3</th>\n",
       "      <td>28-01-2013</td>\n",
       "      <td>28-01-2013</td>\n",
       "    </tr>\n",
       "    <tr>\n",
       "      <th>4</th>\n",
       "      <td>5/11/2013</td>\n",
       "      <td>11/5/2013</td>\n",
       "    </tr>\n",
       "  </tbody>\n",
       "</table>\n",
       "</div>"
      ],
      "text/plain": [
       "    Ship Date  Order Date\n",
       "0  31-07-2012  31-07-2012\n",
       "1    5/2/2013    2/5/2013\n",
       "2  17-10-2013  17-10-2013\n",
       "3  28-01-2013  28-01-2013\n",
       "4   5/11/2013   11/5/2013"
      ]
     },
     "execution_count": 23,
     "metadata": {},
     "output_type": "execute_result"
    }
   ],
   "source": [
    "date_type = df[['Ship Date', \"Order Date\"]]\n",
    "date_type.head()"
   ]
  },
  {
   "cell_type": "markdown",
   "id": "f9937784",
   "metadata": {},
   "source": [
    "### Changing Dates Columns to Datetime object"
   ]
  },
  {
   "cell_type": "code",
   "execution_count": 24,
   "id": "8905e71a",
   "metadata": {},
   "outputs": [],
   "source": [
    "df['Order Date'] = pd.to_datetime(df['Order Date'], format = 'mixed')\n",
    "df['Ship Date'] = pd.to_datetime(df['Ship Date'], format = 'mixed')"
   ]
  },
  {
   "cell_type": "markdown",
   "id": "7a3f35ea",
   "metadata": {},
   "source": [
    "Checking"
   ]
  },
  {
   "cell_type": "code",
   "execution_count": 26,
   "id": "188f85bf",
   "metadata": {},
   "outputs": [
    {
     "data": {
      "text/plain": [
       "Order Date    datetime64[ns]\n",
       "Ship Date     datetime64[ns]\n",
       "dtype: object"
      ]
     },
     "execution_count": 26,
     "metadata": {},
     "output_type": "execute_result"
    }
   ],
   "source": [
    "df[['Order Date', \"Ship Date\"]].dtypes"
   ]
  },
  {
   "cell_type": "code",
   "execution_count": 28,
   "id": "b05a9403",
   "metadata": {},
   "outputs": [
    {
     "data": {
      "text/plain": [
       "Row ID            51290\n",
       "Order ID          25035\n",
       "Order Date         1430\n",
       "Ship Date          1430\n",
       "Ship Mode             4\n",
       "Customer ID        1590\n",
       "Customer Name       795\n",
       "Segment               3\n",
       "City               3636\n",
       "State              1094\n",
       "Country             147\n",
       "Postal Code         631\n",
       "Market                7\n",
       "Region               13\n",
       "Product ID        10292\n",
       "Category              3\n",
       "Sub-Category         17\n",
       "Product Name       3788\n",
       "Sales             22995\n",
       "Quantity             14\n",
       "Discount             27\n",
       "Profit            24575\n",
       "Shipping Cost     10037\n",
       "Order Priority        4\n",
       "dtype: int64"
      ]
     },
     "execution_count": 28,
     "metadata": {},
     "output_type": "execute_result"
    }
   ],
   "source": [
    "df.nunique()"
   ]
  },
  {
   "cell_type": "code",
   "execution_count": 29,
   "id": "2e187e07",
   "metadata": {},
   "outputs": [
    {
     "data": {
      "text/plain": [
       "Index(['Row ID', 'Order ID', 'Order Date', 'Ship Date', 'Ship Mode',\n",
       "       'Customer ID', 'Customer Name', 'Segment', 'City', 'State', 'Country',\n",
       "       'Postal Code', 'Market', 'Region', 'Product ID', 'Category',\n",
       "       'Sub-Category', 'Product Name', 'Sales', 'Quantity', 'Discount',\n",
       "       'Profit', 'Shipping Cost', 'Order Priority'],\n",
       "      dtype='object')"
      ]
     },
     "execution_count": 29,
     "metadata": {},
     "output_type": "execute_result"
    }
   ],
   "source": [
    "df.columns"
   ]
  },
  {
   "cell_type": "markdown",
   "id": "966bba3b",
   "metadata": {},
   "source": [
    "### Setting up relevant columns into Categorical Data\n"
   ]
  },
  {
   "cell_type": "code",
   "execution_count": 31,
   "id": "eab5be6b",
   "metadata": {},
   "outputs": [],
   "source": [
    "df[['Segment','Ship Mode','Country','Market','Region','Category','Sub-Category','Order Priority']] = df[['Segment','Ship Mode','Country','Market','Region','Category','Sub-Category','Order Priority']].astype(\"category\")"
   ]
  },
  {
   "cell_type": "markdown",
   "id": "fd9196dd",
   "metadata": {},
   "source": [
    "Checking"
   ]
  },
  {
   "cell_type": "code",
   "execution_count": 32,
   "id": "964617c9",
   "metadata": {},
   "outputs": [
    {
     "data": {
      "text/plain": [
       "Segment           category\n",
       "Ship Mode         category\n",
       "Country           category\n",
       "Market            category\n",
       "Region            category\n",
       "Category          category\n",
       "Sub-Category      category\n",
       "Order Priority    category\n",
       "dtype: object"
      ]
     },
     "execution_count": 32,
     "metadata": {},
     "output_type": "execute_result"
    }
   ],
   "source": [
    "df[['Segment','Ship Mode','Country','Market','Region','Category','Sub-Category','Order Priority']].dtypes"
   ]
  },
  {
   "cell_type": "code",
   "execution_count": 33,
   "id": "b4d36f13",
   "metadata": {},
   "outputs": [
    {
     "name": "stdout",
     "output_type": "stream",
     "text": [
      "<class 'pandas.core.frame.DataFrame'>\n",
      "RangeIndex: 51290 entries, 0 to 51289\n",
      "Data columns (total 24 columns):\n",
      " #   Column          Non-Null Count  Dtype         \n",
      "---  ------          --------------  -----         \n",
      " 0   Row ID          51290 non-null  int64         \n",
      " 1   Order ID        51290 non-null  object        \n",
      " 2   Order Date      51290 non-null  datetime64[ns]\n",
      " 3   Ship Date       51290 non-null  datetime64[ns]\n",
      " 4   Ship Mode       51290 non-null  category      \n",
      " 5   Customer ID     51290 non-null  object        \n",
      " 6   Customer Name   51290 non-null  object        \n",
      " 7   Segment         51290 non-null  category      \n",
      " 8   City            51290 non-null  object        \n",
      " 9   State           51290 non-null  object        \n",
      " 10  Country         51290 non-null  category      \n",
      " 11  Postal Code     9994 non-null   float64       \n",
      " 12  Market          51290 non-null  category      \n",
      " 13  Region          51290 non-null  category      \n",
      " 14  Product ID      51290 non-null  object        \n",
      " 15  Category        51290 non-null  category      \n",
      " 16  Sub-Category    51290 non-null  category      \n",
      " 17  Product Name    51290 non-null  object        \n",
      " 18  Sales           51290 non-null  float64       \n",
      " 19  Quantity        51290 non-null  int64         \n",
      " 20  Discount        51290 non-null  float64       \n",
      " 21  Profit          51290 non-null  float64       \n",
      " 22  Shipping Cost   51290 non-null  float64       \n",
      " 23  Order Priority  51290 non-null  category      \n",
      "dtypes: category(8), datetime64[ns](2), float64(5), int64(2), object(7)\n",
      "memory usage: 6.7+ MB\n"
     ]
    }
   ],
   "source": [
    "df.info()"
   ]
  },
  {
   "cell_type": "markdown",
   "id": "d6db21c9",
   "metadata": {},
   "source": [
    "# Data Cleaning "
   ]
  },
  {
   "cell_type": "code",
   "execution_count": 34,
   "id": "7401687d",
   "metadata": {},
   "outputs": [
    {
     "data": {
      "text/plain": [
       "np.int64(0)"
      ]
     },
     "execution_count": 34,
     "metadata": {},
     "output_type": "execute_result"
    }
   ],
   "source": [
    "df.duplicated().sum()"
   ]
  },
  {
   "cell_type": "code",
   "execution_count": 37,
   "id": "80b3b8a2",
   "metadata": {},
   "outputs": [
    {
     "data": {
      "text/plain": [
       "np.int64(41296)"
      ]
     },
     "execution_count": 37,
     "metadata": {},
     "output_type": "execute_result"
    }
   ],
   "source": [
    "df.isnull().sum().sum()"
   ]
  },
  {
   "cell_type": "markdown",
   "id": "b1d953dd",
   "metadata": {},
   "source": [
    "Handling Postal Code Missing Values"
   ]
  },
  {
   "cell_type": "code",
   "execution_count": 40,
   "id": "265c1556",
   "metadata": {},
   "outputs": [
    {
     "data": {
      "text/plain": [
       "0    10024.0\n",
       "1    10035.0\n",
       "2    10035.0\n",
       "3    10035.0\n",
       "4    10035.0\n",
       "Name: Postal Code, dtype: float64"
      ]
     },
     "execution_count": 40,
     "metadata": {},
     "output_type": "execute_result"
    }
   ],
   "source": [
    "postal_code_mode = df['Postal Code'].mode()[0]\n",
    "# filling missing values with the mode\n",
    "\n",
    "df['Postal Code'] = df['Postal Code'].fillna(postal_code_mode)\n",
    "df['Postal Code'].head()"
   ]
  },
  {
   "cell_type": "markdown",
   "id": "5b66e8d9",
   "metadata": {},
   "source": [
    "Checking"
   ]
  },
  {
   "cell_type": "code",
   "execution_count": 42,
   "id": "6e92c900",
   "metadata": {},
   "outputs": [
    {
     "data": {
      "text/plain": [
       "np.int64(0)"
      ]
     },
     "execution_count": 42,
     "metadata": {},
     "output_type": "execute_result"
    }
   ],
   "source": [
    "df['Postal Code'].isna().sum()\n",
    "df['Postal Code'].isnull().sum()"
   ]
  },
  {
   "cell_type": "markdown",
   "id": "78a31cd7",
   "metadata": {},
   "source": [
    "Pretty sorted for further analysis"
   ]
  },
  {
   "cell_type": "markdown",
   "id": "526e7c63",
   "metadata": {},
   "source": [
    "## Negative Sales"
   ]
  },
  {
   "cell_type": "code",
   "execution_count": 44,
   "id": "0212aaca",
   "metadata": {},
   "outputs": [],
   "source": [
    "positive_sales = df['Sales'] >= 0 \n",
    "negative_sales = df[df['Sales'] < 0]"
   ]
  },
  {
   "cell_type": "markdown",
   "id": "8d27d58b",
   "metadata": {},
   "source": [
    "#### Check for negaitve values in Profit Column"
   ]
  },
  {
   "cell_type": "code",
   "execution_count": 46,
   "id": "36f59212",
   "metadata": {},
   "outputs": [
    {
     "name": "stdout",
     "output_type": "stream",
     "text": [
      "Negative Values in 'Profit':\n"
     ]
    },
    {
     "data": {
      "text/html": [
       "<div>\n",
       "<style scoped>\n",
       "    .dataframe tbody tr th:only-of-type {\n",
       "        vertical-align: middle;\n",
       "    }\n",
       "\n",
       "    .dataframe tbody tr th {\n",
       "        vertical-align: top;\n",
       "    }\n",
       "\n",
       "    .dataframe thead th {\n",
       "        text-align: right;\n",
       "    }\n",
       "</style>\n",
       "<table border=\"1\" class=\"dataframe\">\n",
       "  <thead>\n",
       "    <tr style=\"text-align: right;\">\n",
       "      <th></th>\n",
       "      <th>Row ID</th>\n",
       "      <th>Order ID</th>\n",
       "      <th>Order Date</th>\n",
       "      <th>Ship Date</th>\n",
       "      <th>Ship Mode</th>\n",
       "      <th>Customer ID</th>\n",
       "      <th>Customer Name</th>\n",
       "      <th>Segment</th>\n",
       "      <th>City</th>\n",
       "      <th>State</th>\n",
       "      <th>...</th>\n",
       "      <th>Product ID</th>\n",
       "      <th>Category</th>\n",
       "      <th>Sub-Category</th>\n",
       "      <th>Product Name</th>\n",
       "      <th>Sales</th>\n",
       "      <th>Quantity</th>\n",
       "      <th>Discount</th>\n",
       "      <th>Profit</th>\n",
       "      <th>Shipping Cost</th>\n",
       "      <th>Order Priority</th>\n",
       "    </tr>\n",
       "  </thead>\n",
       "  <tbody>\n",
       "    <tr>\n",
       "      <th>1</th>\n",
       "      <td>26341</td>\n",
       "      <td>IN-2013-77878</td>\n",
       "      <td>2013-02-05</td>\n",
       "      <td>2013-05-02</td>\n",
       "      <td>Second Class</td>\n",
       "      <td>JR-16210</td>\n",
       "      <td>Justin Ritter</td>\n",
       "      <td>Corporate</td>\n",
       "      <td>Wollongong</td>\n",
       "      <td>New South Wales</td>\n",
       "      <td>...</td>\n",
       "      <td>FUR-CH-10003950</td>\n",
       "      <td>Furniture</td>\n",
       "      <td>Chairs</td>\n",
       "      <td>Novimex Executive Leather Armchair, Black</td>\n",
       "      <td>3709.395</td>\n",
       "      <td>9</td>\n",
       "      <td>0.1</td>\n",
       "      <td>-288.7650</td>\n",
       "      <td>923.63</td>\n",
       "      <td>Critical</td>\n",
       "    </tr>\n",
       "    <tr>\n",
       "      <th>3</th>\n",
       "      <td>13524</td>\n",
       "      <td>ES-2013-1579342</td>\n",
       "      <td>2013-01-28</td>\n",
       "      <td>2013-01-28</td>\n",
       "      <td>First Class</td>\n",
       "      <td>KM-16375</td>\n",
       "      <td>Katherine Murray</td>\n",
       "      <td>Home Office</td>\n",
       "      <td>Berlin</td>\n",
       "      <td>Berlin</td>\n",
       "      <td>...</td>\n",
       "      <td>TEC-PH-10004583</td>\n",
       "      <td>Technology</td>\n",
       "      <td>Phones</td>\n",
       "      <td>Motorola Smart Phone, Cordless</td>\n",
       "      <td>2892.510</td>\n",
       "      <td>5</td>\n",
       "      <td>0.1</td>\n",
       "      <td>-96.5400</td>\n",
       "      <td>910.16</td>\n",
       "      <td>Medium</td>\n",
       "    </tr>\n",
       "    <tr>\n",
       "      <th>9</th>\n",
       "      <td>40936</td>\n",
       "      <td>CA-2012-116638</td>\n",
       "      <td>2012-01-28</td>\n",
       "      <td>2012-01-28</td>\n",
       "      <td>Second Class</td>\n",
       "      <td>JH-15985</td>\n",
       "      <td>Joseph Holt</td>\n",
       "      <td>Consumer</td>\n",
       "      <td>Concord</td>\n",
       "      <td>North Carolina</td>\n",
       "      <td>...</td>\n",
       "      <td>FUR-TA-10000198</td>\n",
       "      <td>Furniture</td>\n",
       "      <td>Tables</td>\n",
       "      <td>Chromcraft Bull-Nose Wood Oval Conference Tabl...</td>\n",
       "      <td>4297.644</td>\n",
       "      <td>13</td>\n",
       "      <td>0.4</td>\n",
       "      <td>-1862.3124</td>\n",
       "      <td>865.74</td>\n",
       "      <td>Critical</td>\n",
       "    </tr>\n",
       "    <tr>\n",
       "      <th>30</th>\n",
       "      <td>220</td>\n",
       "      <td>US-2011-128776</td>\n",
       "      <td>2011-12-28</td>\n",
       "      <td>2011-12-28</td>\n",
       "      <td>Second Class</td>\n",
       "      <td>RR-19525</td>\n",
       "      <td>Rick Reed</td>\n",
       "      <td>Corporate</td>\n",
       "      <td>Santo Domingo</td>\n",
       "      <td>Santo Domingo</td>\n",
       "      <td>...</td>\n",
       "      <td>TEC-PH-10002815</td>\n",
       "      <td>Technology</td>\n",
       "      <td>Phones</td>\n",
       "      <td>Samsung Smart Phone, VoIP</td>\n",
       "      <td>1696.640</td>\n",
       "      <td>5</td>\n",
       "      <td>0.2</td>\n",
       "      <td>-148.4600</td>\n",
       "      <td>704.06</td>\n",
       "      <td>Critical</td>\n",
       "    </tr>\n",
       "    <tr>\n",
       "      <th>32</th>\n",
       "      <td>32735</td>\n",
       "      <td>CA-2012-139731</td>\n",
       "      <td>2012-10-15</td>\n",
       "      <td>2012-10-15</td>\n",
       "      <td>Same Day</td>\n",
       "      <td>JE-15745</td>\n",
       "      <td>Joel Eaton</td>\n",
       "      <td>Consumer</td>\n",
       "      <td>Amarillo</td>\n",
       "      <td>Texas</td>\n",
       "      <td>...</td>\n",
       "      <td>FUR-CH-10002024</td>\n",
       "      <td>Furniture</td>\n",
       "      <td>Chairs</td>\n",
       "      <td>HON 5400 Series Task Chairs for Big and Tall</td>\n",
       "      <td>2453.430</td>\n",
       "      <td>5</td>\n",
       "      <td>0.3</td>\n",
       "      <td>-350.4900</td>\n",
       "      <td>690.42</td>\n",
       "      <td>High</td>\n",
       "    </tr>\n",
       "  </tbody>\n",
       "</table>\n",
       "<p>5 rows × 24 columns</p>\n",
       "</div>"
      ],
      "text/plain": [
       "    Row ID         Order ID Order Date  Ship Date     Ship Mode Customer ID  \\\n",
       "1    26341    IN-2013-77878 2013-02-05 2013-05-02  Second Class    JR-16210   \n",
       "3    13524  ES-2013-1579342 2013-01-28 2013-01-28   First Class    KM-16375   \n",
       "9    40936   CA-2012-116638 2012-01-28 2012-01-28  Second Class    JH-15985   \n",
       "30     220   US-2011-128776 2011-12-28 2011-12-28  Second Class    RR-19525   \n",
       "32   32735   CA-2012-139731 2012-10-15 2012-10-15      Same Day    JE-15745   \n",
       "\n",
       "       Customer Name      Segment           City            State  ...  \\\n",
       "1      Justin Ritter    Corporate     Wollongong  New South Wales  ...   \n",
       "3   Katherine Murray  Home Office         Berlin           Berlin  ...   \n",
       "9        Joseph Holt     Consumer        Concord   North Carolina  ...   \n",
       "30         Rick Reed    Corporate  Santo Domingo    Santo Domingo  ...   \n",
       "32        Joel Eaton     Consumer       Amarillo            Texas  ...   \n",
       "\n",
       "         Product ID    Category Sub-Category  \\\n",
       "1   FUR-CH-10003950   Furniture       Chairs   \n",
       "3   TEC-PH-10004583  Technology       Phones   \n",
       "9   FUR-TA-10000198   Furniture       Tables   \n",
       "30  TEC-PH-10002815  Technology       Phones   \n",
       "32  FUR-CH-10002024   Furniture       Chairs   \n",
       "\n",
       "                                         Product Name     Sales Quantity  \\\n",
       "1           Novimex Executive Leather Armchair, Black  3709.395        9   \n",
       "3                      Motorola Smart Phone, Cordless  2892.510        5   \n",
       "9   Chromcraft Bull-Nose Wood Oval Conference Tabl...  4297.644       13   \n",
       "30                          Samsung Smart Phone, VoIP  1696.640        5   \n",
       "32       HON 5400 Series Task Chairs for Big and Tall  2453.430        5   \n",
       "\n",
       "   Discount     Profit  Shipping Cost  Order Priority  \n",
       "1       0.1  -288.7650         923.63        Critical  \n",
       "3       0.1   -96.5400         910.16          Medium  \n",
       "9       0.4 -1862.3124         865.74        Critical  \n",
       "30      0.2  -148.4600         704.06        Critical  \n",
       "32      0.3  -350.4900         690.42            High  \n",
       "\n",
       "[5 rows x 24 columns]"
      ]
     },
     "metadata": {},
     "output_type": "display_data"
    }
   ],
   "source": [
    "negative_profit = df[df['Profit'] < 0]\n",
    "if not negative_profit.empty:\n",
    "    print(\"Negative Values in 'Profit':\")\n",
    "    display(negative_profit.head())\n"
   ]
  },
  {
   "cell_type": "markdown",
   "id": "49af867d",
   "metadata": {},
   "source": [
    "Finding Mean Profit form the Sales"
   ]
  },
  {
   "cell_type": "code",
   "execution_count": 53,
   "id": "b618cb31",
   "metadata": {},
   "outputs": [],
   "source": [
    "mean_profit = df[df['Profit'] >= 0][\"Profit\"].mean()\n",
    "mean_profit = mean_profit.round(2)"
   ]
  },
  {
   "cell_type": "code",
   "execution_count": 54,
   "id": "8bd11c6b",
   "metadata": {},
   "outputs": [
    {
     "data": {
      "text/plain": [
       "np.float64(61.63)"
      ]
     },
     "execution_count": 54,
     "metadata": {},
     "output_type": "execute_result"
    }
   ],
   "source": [
    "data.loc[data['Profit'] < 0, 'Profit'] = mean_profit\n",
    "mean_profit"
   ]
  },
  {
   "cell_type": "markdown",
   "id": "215e113e",
   "metadata": {},
   "source": [
    "Replacing negative values in profit column with the mean of non negative profits"
   ]
  },
  {
   "cell_type": "code",
   "execution_count": 55,
   "id": "da23b6fb",
   "metadata": {},
   "outputs": [
    {
     "name": "stdout",
     "output_type": "stream",
     "text": [
      "Negative Profits (Loss) replaced with the mean of Positive Profits\n",
      "0    762.1845\n",
      "1     61.6300\n",
      "2    919.9710\n",
      "3     61.6300\n",
      "4    311.5200\n",
      "Name: Profit, dtype: float64\n"
     ]
    }
   ],
   "source": [
    "df['Profit'] = df['Profit'].apply(lambda x: mean_profit if x < 0 else x)\n",
    "print(\"Negative Profits (Loss) replaced with the mean of Positive Profits\")\n",
    "print(df[\"Profit\"].head())"
   ]
  },
  {
   "cell_type": "markdown",
   "id": "43cba0b2",
   "metadata": {},
   "source": [
    "Setting up Segment Data for final analysis "
   ]
  },
  {
   "cell_type": "code",
   "execution_count": 57,
   "id": "e16ef6b3",
   "metadata": {},
   "outputs": [
    {
     "data": {
      "text/html": [
       "<div>\n",
       "<style scoped>\n",
       "    .dataframe tbody tr th:only-of-type {\n",
       "        vertical-align: middle;\n",
       "    }\n",
       "\n",
       "    .dataframe tbody tr th {\n",
       "        vertical-align: top;\n",
       "    }\n",
       "\n",
       "    .dataframe thead th {\n",
       "        text-align: right;\n",
       "    }\n",
       "</style>\n",
       "<table border=\"1\" class=\"dataframe\">\n",
       "  <thead>\n",
       "    <tr style=\"text-align: right;\">\n",
       "      <th></th>\n",
       "      <th>Customer ID</th>\n",
       "      <th>Customer Name</th>\n",
       "      <th>Category</th>\n",
       "      <th>Product Name</th>\n",
       "      <th>Sub-Category</th>\n",
       "      <th>Sales</th>\n",
       "      <th>Profit</th>\n",
       "      <th>Quantity</th>\n",
       "      <th>Discount</th>\n",
       "      <th>Order Date</th>\n",
       "      <th>City</th>\n",
       "      <th>State</th>\n",
       "      <th>Region</th>\n",
       "      <th>Market</th>\n",
       "      <th>Order Priority</th>\n",
       "    </tr>\n",
       "  </thead>\n",
       "  <tbody>\n",
       "    <tr>\n",
       "      <th>0</th>\n",
       "      <td>RH-19495</td>\n",
       "      <td>Rick Hansen</td>\n",
       "      <td>Technology</td>\n",
       "      <td>Plantronics CS510 - Over-the-Head monaural Wir...</td>\n",
       "      <td>Accessories</td>\n",
       "      <td>2309.650</td>\n",
       "      <td>762.1845</td>\n",
       "      <td>7</td>\n",
       "      <td>0.0</td>\n",
       "      <td>2012-07-31</td>\n",
       "      <td>New York City</td>\n",
       "      <td>New York</td>\n",
       "      <td>East</td>\n",
       "      <td>US</td>\n",
       "      <td>Critical</td>\n",
       "    </tr>\n",
       "    <tr>\n",
       "      <th>1</th>\n",
       "      <td>JR-16210</td>\n",
       "      <td>Justin Ritter</td>\n",
       "      <td>Furniture</td>\n",
       "      <td>Novimex Executive Leather Armchair, Black</td>\n",
       "      <td>Chairs</td>\n",
       "      <td>3709.395</td>\n",
       "      <td>61.6300</td>\n",
       "      <td>9</td>\n",
       "      <td>0.1</td>\n",
       "      <td>2013-02-05</td>\n",
       "      <td>Wollongong</td>\n",
       "      <td>New South Wales</td>\n",
       "      <td>Oceania</td>\n",
       "      <td>APAC</td>\n",
       "      <td>Critical</td>\n",
       "    </tr>\n",
       "    <tr>\n",
       "      <th>2</th>\n",
       "      <td>CR-12730</td>\n",
       "      <td>Craig Reiter</td>\n",
       "      <td>Technology</td>\n",
       "      <td>Nokia Smart Phone, with Caller ID</td>\n",
       "      <td>Phones</td>\n",
       "      <td>5175.171</td>\n",
       "      <td>919.9710</td>\n",
       "      <td>9</td>\n",
       "      <td>0.1</td>\n",
       "      <td>2013-10-17</td>\n",
       "      <td>Brisbane</td>\n",
       "      <td>Queensland</td>\n",
       "      <td>Oceania</td>\n",
       "      <td>APAC</td>\n",
       "      <td>Medium</td>\n",
       "    </tr>\n",
       "    <tr>\n",
       "      <th>3</th>\n",
       "      <td>KM-16375</td>\n",
       "      <td>Katherine Murray</td>\n",
       "      <td>Technology</td>\n",
       "      <td>Motorola Smart Phone, Cordless</td>\n",
       "      <td>Phones</td>\n",
       "      <td>2892.510</td>\n",
       "      <td>61.6300</td>\n",
       "      <td>5</td>\n",
       "      <td>0.1</td>\n",
       "      <td>2013-01-28</td>\n",
       "      <td>Berlin</td>\n",
       "      <td>Berlin</td>\n",
       "      <td>Central</td>\n",
       "      <td>EU</td>\n",
       "      <td>Medium</td>\n",
       "    </tr>\n",
       "    <tr>\n",
       "      <th>4</th>\n",
       "      <td>RH-9495</td>\n",
       "      <td>Rick Hansen</td>\n",
       "      <td>Technology</td>\n",
       "      <td>Sharp Wireless Fax, High-Speed</td>\n",
       "      <td>Copiers</td>\n",
       "      <td>2832.960</td>\n",
       "      <td>311.5200</td>\n",
       "      <td>8</td>\n",
       "      <td>0.0</td>\n",
       "      <td>2013-11-05</td>\n",
       "      <td>Dakar</td>\n",
       "      <td>Dakar</td>\n",
       "      <td>Africa</td>\n",
       "      <td>Africa</td>\n",
       "      <td>Critical</td>\n",
       "    </tr>\n",
       "  </tbody>\n",
       "</table>\n",
       "</div>"
      ],
      "text/plain": [
       "  Customer ID     Customer Name    Category  \\\n",
       "0    RH-19495       Rick Hansen  Technology   \n",
       "1    JR-16210     Justin Ritter   Furniture   \n",
       "2    CR-12730      Craig Reiter  Technology   \n",
       "3    KM-16375  Katherine Murray  Technology   \n",
       "4     RH-9495       Rick Hansen  Technology   \n",
       "\n",
       "                                        Product Name Sub-Category     Sales  \\\n",
       "0  Plantronics CS510 - Over-the-Head monaural Wir...  Accessories  2309.650   \n",
       "1          Novimex Executive Leather Armchair, Black       Chairs  3709.395   \n",
       "2                  Nokia Smart Phone, with Caller ID       Phones  5175.171   \n",
       "3                     Motorola Smart Phone, Cordless       Phones  2892.510   \n",
       "4                     Sharp Wireless Fax, High-Speed      Copiers  2832.960   \n",
       "\n",
       "     Profit  Quantity  Discount Order Date           City            State  \\\n",
       "0  762.1845         7       0.0 2012-07-31  New York City         New York   \n",
       "1   61.6300         9       0.1 2013-02-05     Wollongong  New South Wales   \n",
       "2  919.9710         9       0.1 2013-10-17       Brisbane       Queensland   \n",
       "3   61.6300         5       0.1 2013-01-28         Berlin           Berlin   \n",
       "4  311.5200         8       0.0 2013-11-05          Dakar            Dakar   \n",
       "\n",
       "    Region  Market Order Priority  \n",
       "0     East      US       Critical  \n",
       "1  Oceania    APAC       Critical  \n",
       "2  Oceania    APAC         Medium  \n",
       "3  Central      EU         Medium  \n",
       "4   Africa  Africa       Critical  "
      ]
     },
     "execution_count": 57,
     "metadata": {},
     "output_type": "execute_result"
    }
   ],
   "source": [
    "segment_data = df[['Customer ID', \"Customer Name\", 'Category', \"Product Name\", 'Sub-Category','Sales',\"Profit\",'Quantity', 'Discount',\"Order Date\",'City',\"State\",\"Region\",\"Market\",\"Order Priority\"]]\n",
    "segment_data.head()"
   ]
  },
  {
   "cell_type": "markdown",
   "id": "3d5a75fd",
   "metadata": {},
   "source": [
    "## Sales and Profit Analysis\n",
    "\n",
    "- Trend of Sales Over time\n",
    "- Most Profitable Reqions, Cities and Markets\n",
    "- Most Popular Products\n",
    "- Sales and Profit Distribution Across Diferent Markets"
   ]
  },
  {
   "cell_type": "code",
   "execution_count": 62,
   "id": "0e75f840",
   "metadata": {},
   "outputs": [
    {
     "data": {
      "text/html": [
       "<div>\n",
       "<style scoped>\n",
       "    .dataframe tbody tr th:only-of-type {\n",
       "        vertical-align: middle;\n",
       "    }\n",
       "\n",
       "    .dataframe tbody tr th {\n",
       "        vertical-align: top;\n",
       "    }\n",
       "\n",
       "    .dataframe thead th {\n",
       "        text-align: right;\n",
       "    }\n",
       "</style>\n",
       "<table border=\"1\" class=\"dataframe\">\n",
       "  <thead>\n",
       "    <tr style=\"text-align: right;\">\n",
       "      <th></th>\n",
       "      <th>Sales</th>\n",
       "      <th>Profit</th>\n",
       "    </tr>\n",
       "    <tr>\n",
       "      <th>Year</th>\n",
       "      <th></th>\n",
       "      <th></th>\n",
       "    </tr>\n",
       "  </thead>\n",
       "  <tbody>\n",
       "    <tr>\n",
       "      <th>2011</th>\n",
       "      <td>2.259451e+06</td>\n",
       "      <td>5.551908e+05</td>\n",
       "    </tr>\n",
       "    <tr>\n",
       "      <th>2012</th>\n",
       "      <td>2.677439e+06</td>\n",
       "      <td>6.684807e+05</td>\n",
       "    </tr>\n",
       "    <tr>\n",
       "      <th>2013</th>\n",
       "      <td>3.405746e+06</td>\n",
       "      <td>8.575773e+05</td>\n",
       "    </tr>\n",
       "    <tr>\n",
       "      <th>2014</th>\n",
       "      <td>4.299866e+06</td>\n",
       "      <td>1.079941e+06</td>\n",
       "    </tr>\n",
       "  </tbody>\n",
       "</table>\n",
       "</div>"
      ],
      "text/plain": [
       "             Sales        Profit\n",
       "Year                            \n",
       "2011  2.259451e+06  5.551908e+05\n",
       "2012  2.677439e+06  6.684807e+05\n",
       "2013  3.405746e+06  8.575773e+05\n",
       "2014  4.299866e+06  1.079941e+06"
      ]
     },
     "execution_count": 62,
     "metadata": {},
     "output_type": "execute_result"
    }
   ],
   "source": [
    "segment_data.loc[:, \"Order Date\"] = pd.to_datetime(segment_data['Order Date'])\n",
    "segment_data.loc[:, \"Year\"] = segment_data['Order Date'].dt.year\n",
    "sales_profit_trend = segment_data.groupby(\"Year\")[['Sales', \"Profit\"]].sum()\n",
    "sales_profit_trend"
   ]
  },
  {
   "cell_type": "markdown",
   "id": "4b575843",
   "metadata": {},
   "source": [
    "### Visualizing through Graphs and Plots"
   ]
  },
  {
   "cell_type": "code",
   "execution_count": 72,
   "id": "cbe30314",
   "metadata": {},
   "outputs": [
    {
     "data": {
      "image/png": "[encoded data removed]",
      "text/plain": [
       "<Figure size 1000x600 with 1 Axes>"
      ]
     },
     "metadata": {},
     "output_type": "display_data"
    }
   ],
   "source": [
    "plt.figure(figsize=(10,6))\n",
    "plt.plot(sales_profit_trend['Sales'], label='Sales',color= '#1f77b4',linewidth=2.5,marker='o')\n",
    "plt.plot(sales_profit_trend['Profit'], label = \"Profit\",color= '#2ca02c',linewidth= .5,marker='o')\n",
    "plt.title(\"Sales and Profit Trend Over Time\", fontsize=16, fontweight='bold', color='darkblue')\n",
    "plt.xlabel(\"Year\", fontsize=12, fontweight='bold')\n",
    "plt.ylabel(\"Amount ($)\", fontsize=12,fontweight='bold')\n",
    "plt.grid(True, linestyle='--')\n",
    "plt.legend(loc='upper left',fontsize=12)\n",
    "plt.tight_layout()\n",
    "plt.show()"
   ]
  },
  {
   "cell_type": "markdown",
   "id": "26e4543e",
   "metadata": {},
   "source": [
    "### Crux:"
   ]
  },
  {
   "cell_type": "markdown",
   "id": "7b56dfc0",
   "metadata": {},
   "source": [
    "Sales (blue) and Profit (green) have a upward trend over the years. Overall the Business Performance is good."
   ]
  },
  {
   "cell_type": "markdown",
   "id": "f1ac12cb",
   "metadata": {},
   "source": [
    "### Which region and Market contribute to most sales and profit"
   ]
  },
  {
   "cell_type": "code",
   "execution_count": 75,
   "id": "2542788c",
   "metadata": {},
   "outputs": [],
   "source": [
    "region_market_sales_profit = segment_data.groupby(['Region',\"Market\"], observed=False)[[\"Sales\",\"Profit\"]].sum()\n",
    "\n",
    "top_region_sales = region_market_sales_profit.sort_values(by=\"Sales\" , ascending=False)\n",
    "top_market_sales = region_market_sales_profit.sort_values(by='Profit', ascending=False)"
   ]
  },
  {
   "cell_type": "code",
   "execution_count": 83,
   "id": "cffac1fc",
   "metadata": {},
   "outputs": [
    {
     "name": "stdout",
     "output_type": "stream",
     "text": [
      "Top Regions by Sales :\n"
     ]
    },
    {
     "data": {
      "text/html": [
       "<div>\n",
       "<style scoped>\n",
       "    .dataframe tbody tr th:only-of-type {\n",
       "        vertical-align: middle;\n",
       "    }\n",
       "\n",
       "    .dataframe tbody tr th {\n",
       "        vertical-align: top;\n",
       "    }\n",
       "\n",
       "    .dataframe thead th {\n",
       "        text-align: right;\n",
       "    }\n",
       "</style>\n",
       "<table border=\"1\" class=\"dataframe\">\n",
       "  <thead>\n",
       "    <tr style=\"text-align: right;\">\n",
       "      <th></th>\n",
       "      <th></th>\n",
       "      <th>Sales</th>\n",
       "    </tr>\n",
       "    <tr>\n",
       "      <th>Region</th>\n",
       "      <th>Market</th>\n",
       "      <th></th>\n",
       "    </tr>\n",
       "  </thead>\n",
       "  <tbody>\n",
       "    <tr>\n",
       "      <th>Central</th>\n",
       "      <th>EU</th>\n",
       "      <td>1720552.6</td>\n",
       "    </tr>\n",
       "    <tr>\n",
       "      <th>Oceania</th>\n",
       "      <th>APAC</th>\n",
       "      <td>1100184.6</td>\n",
       "    </tr>\n",
       "    <tr>\n",
       "      <th>Southeast Asia</th>\n",
       "      <th>APAC</th>\n",
       "      <td>884423.2</td>\n",
       "    </tr>\n",
       "    <tr>\n",
       "      <th>North Asia</th>\n",
       "      <th>APAC</th>\n",
       "      <td>848309.8</td>\n",
       "    </tr>\n",
       "    <tr>\n",
       "      <th>EMEA</th>\n",
       "      <th>EMEA</th>\n",
       "      <td>806161.3</td>\n",
       "    </tr>\n",
       "    <tr>\n",
       "      <th>Africa</th>\n",
       "      <th>Africa</th>\n",
       "      <td>783773.2</td>\n",
       "    </tr>\n",
       "    <tr>\n",
       "      <th>Central Asia</th>\n",
       "      <th>APAC</th>\n",
       "      <td>752826.6</td>\n",
       "    </tr>\n",
       "    <tr>\n",
       "      <th>West</th>\n",
       "      <th>US</th>\n",
       "      <td>725457.8</td>\n",
       "    </tr>\n",
       "    <tr>\n",
       "      <th>East</th>\n",
       "      <th>US</th>\n",
       "      <td>678781.2</td>\n",
       "    </tr>\n",
       "    <tr>\n",
       "      <th>North</th>\n",
       "      <th>EU</th>\n",
       "      <td>625575.0</td>\n",
       "    </tr>\n",
       "  </tbody>\n",
       "</table>\n",
       "</div>"
      ],
      "text/plain": [
       "                           Sales\n",
       "Region         Market           \n",
       "Central        EU      1720552.6\n",
       "Oceania        APAC    1100184.6\n",
       "Southeast Asia APAC     884423.2\n",
       "North Asia     APAC     848309.8\n",
       "EMEA           EMEA     806161.3\n",
       "Africa         Africa   783773.2\n",
       "Central Asia   APAC     752826.6\n",
       "West           US       725457.8\n",
       "East           US       678781.2\n",
       "North          EU       625575.0"
      ]
     },
     "execution_count": 83,
     "metadata": {},
     "output_type": "execute_result"
    }
   ],
   "source": [
    "print(\"Top Regions by Sales :\")\n",
    "top_region_sales[[\"Sales\"]].round(1).head(10)"
   ]
  },
  {
   "cell_type": "code",
   "execution_count": 84,
   "id": "0b709839",
   "metadata": {},
   "outputs": [
    {
     "name": "stdout",
     "output_type": "stream",
     "text": [
      "\n",
      "Top Markets by Profits:\n"
     ]
    },
    {
     "data": {
      "text/html": [
       "<div>\n",
       "<style scoped>\n",
       "    .dataframe tbody tr th:only-of-type {\n",
       "        vertical-align: middle;\n",
       "    }\n",
       "\n",
       "    .dataframe tbody tr th {\n",
       "        vertical-align: top;\n",
       "    }\n",
       "\n",
       "    .dataframe thead th {\n",
       "        text-align: right;\n",
       "    }\n",
       "</style>\n",
       "<table border=\"1\" class=\"dataframe\">\n",
       "  <thead>\n",
       "    <tr style=\"text-align: right;\">\n",
       "      <th></th>\n",
       "      <th></th>\n",
       "      <th>Profit</th>\n",
       "    </tr>\n",
       "    <tr>\n",
       "      <th>Region</th>\n",
       "      <th>Market</th>\n",
       "      <th></th>\n",
       "    </tr>\n",
       "  </thead>\n",
       "  <tbody>\n",
       "    <tr>\n",
       "      <th>Central</th>\n",
       "      <th>EU</th>\n",
       "      <td>380665.07</td>\n",
       "    </tr>\n",
       "    <tr>\n",
       "      <th>EMEA</th>\n",
       "      <th>EMEA</th>\n",
       "      <td>265941.66</td>\n",
       "    </tr>\n",
       "    <tr>\n",
       "      <th>Oceania</th>\n",
       "      <th>APAC</th>\n",
       "      <td>241328.47</td>\n",
       "    </tr>\n",
       "    <tr>\n",
       "      <th>Africa</th>\n",
       "      <th>Africa</th>\n",
       "      <td>241225.56</td>\n",
       "    </tr>\n",
       "    <tr>\n",
       "      <th>Southeast Asia</th>\n",
       "      <th>APAC</th>\n",
       "      <td>210122.90</td>\n",
       "    </tr>\n",
       "  </tbody>\n",
       "</table>\n",
       "</div>"
      ],
      "text/plain": [
       "                          Profit\n",
       "Region         Market           \n",
       "Central        EU      380665.07\n",
       "EMEA           EMEA    265941.66\n",
       "Oceania        APAC    241328.47\n",
       "Africa         Africa  241225.56\n",
       "Southeast Asia APAC    210122.90"
      ]
     },
     "execution_count": 84,
     "metadata": {},
     "output_type": "execute_result"
    }
   ],
   "source": [
    "print(\"\\nTop Markets by Profits:\")\n",
    "top_market_sales[['Profit']].round(2).head()"
   ]
  },
  {
   "cell_type": "markdown",
   "id": "fd534859",
   "metadata": {},
   "source": [
    "### Creating Subplots"
   ]
  },
  {
   "cell_type": "code",
   "execution_count": 85,
   "id": "29f2f6b9",
   "metadata": {},
   "outputs": [],
   "source": [
    "top_region_sales = region_market_sales_profit.sort_values(by=\"Sales\" , ascending=False).head()\n",
    "top_markets_profits = region_market_sales_profit.sort_values(by=\"Profit\", ascending=False).head()"
   ]
  },
  {
   "cell_type": "markdown",
   "id": "28586596",
   "metadata": {},
   "source": [
    "## Top Regions and Markets "
   ]
  },
  {
   "cell_type": "markdown",
   "id": "e7e86838",
   "metadata": {},
   "source": [
    "by sales and Profit"
   ]
  },
  {
   "cell_type": "code",
   "execution_count": 97,
   "id": "d12c93c5",
   "metadata": {},
   "outputs": [
    {
     "data": {
      "image/png": "[encoded data removed]",
      "text/plain": [
       "<Figure size 800x800 with 2 Axes>"
      ]
     },
     "metadata": {},
     "output_type": "display_data"
    }
   ],
   "source": [
    "fig, ax = plt.subplots(2,1, figsize= (8,8))\n",
    "\n",
    "#sales plotting ( by region)\n",
    "top_region_sales[['Sales', 'Profit']].plot(kind='bar',stacked=True,ax=ax[0],color=['#1f77b4', '#2ca02c'])\n",
    "ax[0].set_title('Top Regions by Sales and Profit', fontsize=14, color='darkblue')\n",
    "ax[0].set_ylabel('Amount ($)', fontsize=12)\n",
    "ax[0].set_xlabel('Region', fontsize=12)\n",
    "\n",
    "# plotting stakced bar chart\n",
    "top_markets_profits[['Sales', 'Profit']].plot(kind='bar',stacked=True,ax=ax[1],color=['#1f77b4', '#2ca02c'])\n",
    "ax[1].set_title('Top Markets by Sales and Profit', fontsize=14, color='darkblue')\n",
    "ax[1].set_ylabel('Amount ($)', fontsize=12)\n",
    "ax[1].set_xlabel('Market', fontsize=12)\n",
    "\n",
    "plt.tight_layout()\n",
    "plt.show()\n"
   ]
  },
  {
   "cell_type": "code",
   "execution_count": null,
   "id": "ac1b9115",
   "metadata": {},
   "outputs": [
    {
     "data": {
      "image/png": "[encoded data removed]",
      "text/plain": [
       "<Figure size 1000x600 with 1 Axes>"
      ]
     },
     "metadata": {},
     "output_type": "display_data"
    }
   ],
   "source": [
    "# Group data by City and State, summing the Profit\n",
    "city_state_profit = segment_data.groupby(['City', 'State'])['Profit'].sum().reset_index()\n",
    "\n",
    "# Sort the data for top cities and states by Profit\n",
    "top_city_state_profit = city_state_profit.sort_values(by='Profit', ascending=False).head()\n",
    "\n",
    "# Display top profitable cities and states\n",
    "top_city_state_profit\n",
    "\n",
    "# Create the bar chart\n",
    "fig, ax = plt.subplots(figsize=(10, 6))\n",
    "\n",
    "# Plotting Profit by City and State (Bar Chart)\n",
    "top_city_state_profit.plot(kind='bar', x='City',y='Profit', ax=ax, color='orange')\n",
    "\n",
    "\n",
    "## Rotating the x sticks:\n",
    "ax.set_xticklabels(ax.get_xticklabels(), rotation=45, ha='right')\n",
    "\n",
    "# Set the title and labels\n",
    "ax.set_title('Top Cities by Profit', fontsize=14, color='darkblue')\n",
    "ax.set_ylabel('Profit ($)', fontsize=12)\n",
    "ax.set_xlabel('City', fontsize=12)\n",
    "\n",
    "# Show the plot\n",
    "plt.tight_layout()\n",
    "plt.show()\n"
   ]
  },
  {
   "cell_type": "markdown",
   "id": "812c0258",
   "metadata": {},
   "source": [
    "### Most Popular Products"
   ]
  },
  {
   "cell_type": "markdown",
   "id": "a9342992",
   "metadata": {},
   "source": [
    "based on quantity sold"
   ]
  },
  {
   "cell_type": "code",
   "execution_count": 98,
   "id": "7f423552",
   "metadata": {},
   "outputs": [
    {
     "data": {
      "text/html": [
       "<div>\n",
       "<style scoped>\n",
       "    .dataframe tbody tr th:only-of-type {\n",
       "        vertical-align: middle;\n",
       "    }\n",
       "\n",
       "    .dataframe tbody tr th {\n",
       "        vertical-align: top;\n",
       "    }\n",
       "\n",
       "    .dataframe thead th {\n",
       "        text-align: right;\n",
       "    }\n",
       "</style>\n",
       "<table border=\"1\" class=\"dataframe\">\n",
       "  <thead>\n",
       "    <tr style=\"text-align: right;\">\n",
       "      <th></th>\n",
       "      <th>Product Name</th>\n",
       "      <th>Quantity</th>\n",
       "    </tr>\n",
       "  </thead>\n",
       "  <tbody>\n",
       "    <tr>\n",
       "      <th>3275</th>\n",
       "      <td>Staples</td>\n",
       "      <td>876</td>\n",
       "    </tr>\n",
       "    <tr>\n",
       "      <th>894</th>\n",
       "      <td>Cardinal Index Tab, Clear</td>\n",
       "      <td>337</td>\n",
       "    </tr>\n",
       "    <tr>\n",
       "      <th>1210</th>\n",
       "      <td>Eldon File Cart, Single Width</td>\n",
       "      <td>321</td>\n",
       "    </tr>\n",
       "    <tr>\n",
       "      <th>2840</th>\n",
       "      <td>Rogers File Cart, Single Width</td>\n",
       "      <td>262</td>\n",
       "    </tr>\n",
       "    <tr>\n",
       "      <th>3070</th>\n",
       "      <td>Sanford Pencil Sharpener, Water Color</td>\n",
       "      <td>259</td>\n",
       "    </tr>\n",
       "  </tbody>\n",
       "</table>\n",
       "</div>"
      ],
      "text/plain": [
       "                               Product Name  Quantity\n",
       "3275                                Staples       876\n",
       "894               Cardinal Index Tab, Clear       337\n",
       "1210          Eldon File Cart, Single Width       321\n",
       "2840         Rogers File Cart, Single Width       262\n",
       "3070  Sanford Pencil Sharpener, Water Color       259"
      ]
     },
     "execution_count": 98,
     "metadata": {},
     "output_type": "execute_result"
    }
   ],
   "source": [
    "# Grouping the data by Product Name and summing the Quantity\n",
    "product_quantity = segment_data.groupby('Product Name')['Quantity'].sum().reset_index()\n",
    "top_products = product_quantity.sort_values(by='Quantity', ascending=False).head()\n",
    "top_products\n"
   ]
  },
  {
   "cell_type": "markdown",
   "id": "cf02b86c",
   "metadata": {},
   "source": [
    "### Plotting through Pie Chart"
   ]
  },
  {
   "cell_type": "code",
   "execution_count": null,
   "id": "ad55be55",
   "metadata": {},
   "outputs": [
    {
     "data": {
      "image/png": "[encoded data removed]",
      "text/plain": [
       "<Figure size 1000x600 with 1 Axes>"
      ]
     },
     "metadata": {},
     "output_type": "display_data"
    }
   ],
   "source": [
    "top_products = product_quantity.sort_values(by='Quantity', ascending=False).head()\n",
    "# pie \n",
    "fig, ax = plt.subplots(figsize=(10, 6))\n",
    "ax.pie(top_products['Quantity'],labels=top_products['Product Name'],autopct='%1.1f%%',colors=['#1f77b4', '#ff7f0e', '#2ca02c', '#d62728', '#9467bd'])\n",
    "#title\n",
    "ax.set_title('Top 5 Most Popular Products by Quantity Sold', fontsize=14, color='darkblue')\n",
    "\n",
    "plt.show()\n"
   ]
  },
  {
   "cell_type": "code",
   "execution_count": 99,
   "id": "12485be9",
   "metadata": {},
   "outputs": [
    {
     "data": {
      "text/html": [
       "<div>\n",
       "<style scoped>\n",
       "    .dataframe tbody tr th:only-of-type {\n",
       "        vertical-align: middle;\n",
       "    }\n",
       "\n",
       "    .dataframe tbody tr th {\n",
       "        vertical-align: top;\n",
       "    }\n",
       "\n",
       "    .dataframe thead th {\n",
       "        text-align: right;\n",
       "    }\n",
       "</style>\n",
       "<table border=\"1\" class=\"dataframe\">\n",
       "  <thead>\n",
       "    <tr style=\"text-align: right;\">\n",
       "      <th></th>\n",
       "      <th>Market</th>\n",
       "      <th>Sales</th>\n",
       "      <th>Profit</th>\n",
       "    </tr>\n",
       "  </thead>\n",
       "  <tbody>\n",
       "    <tr>\n",
       "      <th>0</th>\n",
       "      <td>APAC</td>\n",
       "      <td>3.585744e+06</td>\n",
       "      <td>835078.0434</td>\n",
       "    </tr>\n",
       "    <tr>\n",
       "      <th>1</th>\n",
       "      <td>Africa</td>\n",
       "      <td>7.837732e+05</td>\n",
       "      <td>241225.5640</td>\n",
       "    </tr>\n",
       "    <tr>\n",
       "      <th>2</th>\n",
       "      <td>Canada</td>\n",
       "      <td>6.692817e+04</td>\n",
       "      <td>17817.3900</td>\n",
       "    </tr>\n",
       "    <tr>\n",
       "      <th>3</th>\n",
       "      <td>EMEA</td>\n",
       "      <td>8.061613e+05</td>\n",
       "      <td>265941.6640</td>\n",
       "    </tr>\n",
       "    <tr>\n",
       "      <th>4</th>\n",
       "      <td>EU</td>\n",
       "      <td>2.938089e+06</td>\n",
       "      <td>689551.0770</td>\n",
       "    </tr>\n",
       "    <tr>\n",
       "      <th>5</th>\n",
       "      <td>LATAM</td>\n",
       "      <td>2.164605e+06</td>\n",
       "      <td>553738.3912</td>\n",
       "    </tr>\n",
       "    <tr>\n",
       "      <th>6</th>\n",
       "      <td>US</td>\n",
       "      <td>2.297201e+06</td>\n",
       "      <td>557838.0374</td>\n",
       "    </tr>\n",
       "  </tbody>\n",
       "</table>\n",
       "</div>"
      ],
      "text/plain": [
       "   Market         Sales       Profit\n",
       "0    APAC  3.585744e+06  835078.0434\n",
       "1  Africa  7.837732e+05  241225.5640\n",
       "2  Canada  6.692817e+04   17817.3900\n",
       "3    EMEA  8.061613e+05  265941.6640\n",
       "4      EU  2.938089e+06  689551.0770\n",
       "5   LATAM  2.164605e+06  553738.3912\n",
       "6      US  2.297201e+06  557838.0374"
      ]
     },
     "execution_count": 99,
     "metadata": {},
     "output_type": "execute_result"
    }
   ],
   "source": [
    "\n",
    "market_sales_profit = segment_data.groupby('Market', observed=False)[['Sales', 'Profit']].sum().reset_index()\n",
    "\n",
    "market_sales_profit\n"
   ]
  },
  {
   "cell_type": "markdown",
   "id": "ab25f859",
   "metadata": {},
   "source": [
    "### Distribution of Sales and Profit across MArkets"
   ]
  },
  {
   "cell_type": "code",
   "execution_count": 111,
   "id": "e82a6dc9",
   "metadata": {},
   "outputs": [
    {
     "data": {
      "image/png": "[encoded data removed]",
      "text/plain": [
       "<Figure size 1000x600 with 1 Axes>"
      ]
     },
     "metadata": {},
     "output_type": "display_data"
    }
   ],
   "source": [
    "fig, ax = plt.subplots(figsize=(10, 6))\n",
    "\n",
    "## sales and profit for each market\n",
    "\n",
    "market_sales_profit.set_index('Market')[['Sales', 'Profit']].plot(kind='bar',stacked=True,ax=ax,color=['purple','orange'])\n",
    "\n",
    "## title , labels\n",
    "ax.set_xticklabels(ax.get_xticklabels(), rotation=45, ha='right')\n",
    "ax.set_title('Sales and Profit Distribution Across Different Markets', fontsize=14, color='darkblue')\n",
    "ax.set_ylabel('Amount ($)', fontsize=12)\n",
    "ax.set_xlabel('Market', fontsize=12)\n",
    "\n",
    "plt.show()\n"
   ]
  },
  {
   "cell_type": "markdown",
   "id": "31fb2f83",
   "metadata": {},
   "source": [
    "# Sales & Profit Analysis - Key Points\n",
    "\n",
    "### Top-Selling Products:\n",
    "\n",
    "* Staples were the clear favorite, with 876 units sold.\n",
    "* Cardinal Index Tabs followed, with 337 units sold.\n",
    "* Eldon File Carts rounded out the top 3 with 321 units.\n",
    "* Office essentials drive the highest sales volume.\n",
    "\n",
    "### Market Performance Insights:\n",
    "\n",
    "* Different regions exhibit varying revenue-to-profit patterns.\n",
    "* Some markets generate high sales but lower profits.\n",
    "* Identifies opportunities for better cost control\n",
    "* Reveals pricing strategy improvements needed\n",
    "* Stacked bar charts highlight which markets need attention.\n",
    "\n",
    "### Key Takeaway\n",
    "* There is need to focus on office staples for volume, optimize pricing/costs in underperforming markets."
   ]
  }
 ],
 "metadata": {
  "kernelspec": {
   "display_name": "SalesProfit",
   "language": "python",
   "name": "python3"
  },
  "language_info": {
   "codemirror_mode": {
    "name": "ipython",
    "version": 3
   },
   "file_extension": ".py",
   "mimetype": "text/x-python",
   "name": "python",
   "nbconvert_exporter": "python",
   "pygments_lexer": "ipython3",
   "version": "3.11.13"
  }
 },
 "nbformat": 4,
 "nbformat_minor": 5
}
